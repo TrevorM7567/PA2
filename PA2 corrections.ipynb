{
 "cells": [
  {
   "cell_type": "code",
   "execution_count": 2,
   "id": "6013a6b5",
   "metadata": {},
   "outputs": [
    {
     "name": "stdout",
     "output_type": "stream",
     "text": [
      "0\n",
      "1\n",
      "2\n",
      "3\n",
      "4\n",
      "5\n",
      "6 *\n",
      "7\n",
      "8\n",
      "9 *\n",
      "10\n",
      "11\n",
      "12 *\n",
      "13\n",
      "14\n",
      "15 *\n",
      "16\n",
      "17\n",
      "18 *\n",
      "19\n",
      "20\n",
      "21 *\n",
      "22\n",
      "23\n",
      "24 *\n",
      "25\n",
      "26\n",
      "27 *\n",
      "28\n",
      "29\n",
      "30 *\n",
      "31\n",
      "32\n",
      "33 *\n",
      "34\n",
      "35\n",
      "36 *\n",
      "37\n",
      "38\n",
      "39 *\n",
      "40\n",
      "41\n",
      "42 *\n",
      "43\n",
      "44\n",
      "45 *\n",
      "46\n",
      "47\n",
      "48 *\n",
      "49\n",
      "50\n",
      "51 *\n",
      "52\n",
      "53\n",
      "54 *\n",
      "55\n",
      "56\n",
      "57 *\n",
      "58\n",
      "59\n",
      "60 *\n",
      "61\n",
      "62\n",
      "63 *\n",
      "64\n",
      "65\n",
      "66 *\n",
      "67\n",
      "68\n",
      "69 *\n",
      "70\n",
      "71\n",
      "72 *\n",
      "73\n",
      "74\n",
      "75 *\n",
      "76\n",
      "77\n",
      "78 *\n",
      "79\n",
      "80\n",
      "81 *\n",
      "82\n",
      "83\n",
      "84 *\n",
      "85\n",
      "86\n",
      "87 *\n",
      "88\n",
      "89\n",
      "90 *\n",
      "91\n",
      "92\n",
      "93 *\n",
      "94\n",
      "95\n",
      "96 *\n",
      "97\n",
      "98\n",
      "99 *\n",
      "100\n"
     ]
    }
   ],
   "source": [
    "for num in range(101):\n",
    "    if num%3==0 and num>3:\n",
    "        print(num,'*')\n",
    "    else:\n",
    "        print(num)"
   ]
  },
  {
   "cell_type": "code",
   "execution_count": 6,
   "id": "dc805837",
   "metadata": {},
   "outputs": [
    {
     "name": "stdout",
     "output_type": "stream",
     "text": [
      "What is the subject's age? 15\n",
      "Minor\n",
      "What is the subject's age? 46\n",
      "adult\n",
      "What is the subject's age? 0\n"
     ]
    }
   ],
   "source": [
    "age= int(input(\"What is the subject's age? \"))\n",
    "while age>0:\n",
    "    if age<18:\n",
    "        print(\"Minor\")\n",
    "    elif age>18 and age<64:\n",
    "        print(\"adult\") \n",
    "    elif age>65 and age<100:\n",
    "        print(\"senior\")\n",
    "    else:\n",
    "        print(\"Invalid Age\")\n",
    "    age= int(input(\"What is the subject's age? \"))"
   ]
  },
  {
   "cell_type": "code",
   "execution_count": 9,
   "id": "aa9c16b8",
   "metadata": {},
   "outputs": [
    {
     "name": "stdout",
     "output_type": "stream",
     "text": [
      "65 :senior\n",
      "78 :senior\n",
      "34 :adult\n",
      "56 :adult\n",
      "12 :Minor\n",
      "9 :Minor\n",
      "43 :adult\n",
      "67 :senior\n"
     ]
    }
   ],
   "source": [
    "\n",
    "numbers= [65,78,34,56,12,9,43,67]\n",
    "for num in numbers:\n",
    "    if num<18:\n",
    "        print(num, \":Minor\")\n",
    "    elif num>18 and num<64:\n",
    "        print(num, \":adult\") \n",
    "    elif num>=65 and num<100:\n",
    "        print(num, \":senior\")\n",
    "    else:\n",
    "        print(\"Invalid Age\")"
   ]
  },
  {
   "cell_type": "markdown",
   "id": "f168552d",
   "metadata": {},
   "source": [
    "# Programming Assignment 2\n",
    "## Trevor McCormick, Version1\n",
    "### Bellarmine University CS150 Fall 2021"
   ]
  },
  {
   "cell_type": "code",
   "execution_count": null,
   "id": "93482520",
   "metadata": {},
   "outputs": [],
   "source": []
  }
 ],
 "metadata": {
  "kernelspec": {
   "display_name": "Python 3",
   "language": "python",
   "name": "python3"
  },
  "language_info": {
   "codemirror_mode": {
    "name": "ipython",
    "version": 3
   },
   "file_extension": ".py",
   "mimetype": "text/x-python",
   "name": "python",
   "nbconvert_exporter": "python",
   "pygments_lexer": "ipython3",
   "version": "3.8.8"
  }
 },
 "nbformat": 4,
 "nbformat_minor": 5
}
